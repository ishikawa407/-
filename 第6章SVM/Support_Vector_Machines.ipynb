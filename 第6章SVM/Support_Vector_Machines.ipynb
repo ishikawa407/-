{
 "cells": [
  {
   "cell_type": "markdown",
   "metadata": {},
   "source": [
    "**本章内容**\n",
    "\n",
    "*简单介绍支持向量机*\n",
    "\n",
    "*利用SMO进行优化*\n",
    "\n",
    "*利用核函数对数据进行空间转换*\n",
    "\n",
    "*将SVM和其他分类器进行类比*"
   ]
  },
  {
   "cell_type": "markdown",
   "metadata": {},
   "source": [
    "**基于最大间隔分隔数据**\n",
    "\n",
    "优点：*泛化错误率低，计算开销不大， 结果易解释\n",
    "\n",
    "缺点：*对参数调节和核函数的选择敏感，原始分类器不加修饰仅可用于处理二类问题\n",
    "\n",
    "适用数据类型：*数值型和标称型数据"
   ]
  },
  {
   "cell_type": "markdown",
   "metadata": {},
   "source": [
    "## SMO 高效优化算法"
   ]
  },
  {
   "cell_type": "markdown",
   "metadata": {},
   "source": [
    "工作原理：每次循环中选择两个alpha进行优化处理，一旦找到一对合适的alpha。那么就增大其中一个同时减少另一个。"
   ]
  },
  {
   "cell_type": "markdown",
   "metadata": {},
   "source": [
    "### 简化版SMO算法 "
   ]
  },
  {
   "cell_type": "markdown",
   "metadata": {},
   "source": [
    "首先在数据集上遍历每一个alpha， 然后在剩下的alpha集和中随机选择另一个alpha。\n",
    "\n",
    "需要同时改变两个alpha 由于约束条件alpha·label和为0\n",
    "\n",
    "伪代码：\n",
    "\n",
    "创建一个alpha向量并将其初始化为0向量\n",
    "\n",
    "当迭代次数小于最大迭代次数时（外循环）：\n",
    "\n",
    "    对数据集中的每个数据向量（内循环）：\n",
    "    \n",
    "        如果该数据向量可以被优化：\n",
    "        \n",
    "            随机选择另外一个数据向量\n",
    "            \n",
    "            同时优化这两个向量\n",
    "            \n",
    "            如果两个向量都不能优化，退出内循环\n",
    "            \n",
    "    如果所有向量都没被优化，增加迭代次数， 继续下一次循环\n"
   ]
  },
  {
   "cell_type": "code",
   "execution_count": 4,
   "metadata": {},
   "outputs": [],
   "source": [
    "import svmMLiA"
   ]
  },
  {
   "cell_type": "code",
   "execution_count": 5,
   "metadata": {},
   "outputs": [],
   "source": [
    "dataArr, labelArr = svmMLiA.loadDataSet('testSet.txt')"
   ]
  },
  {
   "cell_type": "code",
   "execution_count": 6,
   "metadata": {},
   "outputs": [],
   "source": [
    "from numpy import *"
   ]
  },
  {
   "cell_type": "code",
   "execution_count": 6,
   "metadata": {},
   "outputs": [],
   "source": [
    "# 简化版SMO算法\n",
    "\n",
    "def smoSimple(dataMatIn, classLabels, C, toler, maxIter):\n",
    "    \"\"\"\n",
    "    paraments:\n",
    "        dataMatIn 数据集\n",
    "        classLabels 类别标签\n",
    "        C \n",
    "        toler 容错率\n",
    "        maxIter 最大循环次数\n",
    "        \n",
    "    returns：\n",
    "        b\n",
    "        alphas\n",
    "    \"\"\"\n",
    "    dataMatrix = mat(dataMatIn)\n",
    "    labelMat = mat(classLabels).transpose()\n",
    "    b = 0\n",
    "    m, n = shape(dataMatrix)\n",
    "    alphas = mat(zeros((m, 1)))\n",
    "    iter = 0\n",
    "    while (iter < maxIter):\n",
    "        alphaPairsChanged = 0\n",
    "        for i in range(m):\n",
    "            fXi = float(multiply(alphas, labelMat).T*\\\n",
    "                       (dataMatrix*dataMatrix[i, :].T)) + b\n",
    "            Ei = fXi - float(labelMat[i])\n",
    "            if ((labelMat[i] * Ei < -toler) and (alphas[i] < C)) or \\\n",
    "                ((labelMat[i] * Ei > toler) and (alphas[i] > 0)):\n",
    "                j = svmMLiA.selectJrand(i, m) # 随机选择第二个alpha\n",
    "                fXj = float(multiply(alphas, labelMat).T*\\\n",
    "                           (dataMatrix * dataMatrix[j, :].T)) + b\n",
    "                Ej = fXj - float(labelMat[j])\n",
    "                alphaIold = alphas[i].copy()\n",
    "                alphaJold = alphas[j].copy()\n",
    "                \n",
    "                # 保证alpha在0到C之间 \n",
    "                if (labelMat[i] != labelMat[j]):\n",
    "                    L = max(0, alphas[j] - alphas[i])\n",
    "                    H = min(C, C + alphas[j] - alphas[i])\n",
    "                else:\n",
    "                    L = max(0, alphas[j] + alphas[i] - C)\n",
    "                    H = min(C, C + alphas[j] - alphas[i])\n",
    "                if L == H:\n",
    "                    print(\"L == H\")\n",
    "                    continue\n",
    "                eta = 2.0 * dataMatrix[i, :] * dataMatrix[j, :].T - \\\n",
    "                      dataMatrix[i, :] * dataMatrix[i, :].T - \\\n",
    "                      dataMatrix[j, :] * dataMatrix[j, :].T\n",
    "                if eta >= 0:\n",
    "                    print(\"eta >= 0\")\n",
    "                    continue\n",
    "                \n",
    "                alphas[j] -= labelMat[j] * (Ei - Ej) / eta\n",
    "                alphas[j] = svmMLiA.clipAlpha(alphas[j], H, L)\n",
    "                if (abs(alphas[j] - alphaIold) < 0.00001):\n",
    "                    print(\"j not moving enough\")\n",
    "                    continue\n",
    "                \n",
    "                alphas[i] += labelMat[j] * labelMat[i] *\\\n",
    "                            (alphaJold - alphas[j])\n",
    "                b1 = b - Ei - labelMat[i] * (alphas[i] - alphaIold) *\\\n",
    "                     dataMatrix[i, :] * dataMatrix[i, :].T - \\\n",
    "                     labelMat[j] * (alphas[j] - alphaJold)*\\\n",
    "                     dataMatrix[i, :]*dataMatrix[j, :].T\n",
    "                b2 = b - Ej - labelMat[i] * (alphas[i] - alphaIold) *\\\n",
    "                     dataMatrix[i,:] * dataMatrix[j, :].T - \\\n",
    "                     labelMat[j] * (alphas[j] - alphaJold) * \\\n",
    "                     dataMatrix[j, :] * dataMatrix[j, :].T\n",
    "                if (0 < alphas[i]) and (C > alphas[i]):\n",
    "                    b = b1\n",
    "                elif (0 < alphas[j]) and (C > alphas[j]):\n",
    "                    b = b2\n",
    "                else:\n",
    "                    b = (b1 + b2) / 2.0\n",
    "                alphaPairsChanged += 1\n",
    "                print(\"iter: %d i: %d, pairs changed %d\" %(\n",
    "                                    iter, i, alphaPairsChanged))\n",
    "        if (alphaPairsChanged == 0):\n",
    "            iter += 1\n",
    "        else:\n",
    "            iter = 0\n",
    "        print(\"iteration number: %d\" % iter)\n",
    "    return b, alphas"
   ]
  },
  {
   "cell_type": "code",
   "execution_count": null,
   "metadata": {},
   "outputs": [],
   "source": []
  }
 ],
 "metadata": {
  "kernelspec": {
   "display_name": "Python 3",
   "language": "python",
   "name": "python3"
  },
  "language_info": {
   "codemirror_mode": {
    "name": "ipython",
    "version": 3
   },
   "file_extension": ".py",
   "mimetype": "text/x-python",
   "name": "python",
   "nbconvert_exporter": "python",
   "pygments_lexer": "ipython3",
   "version": "3.7.1"
  }
 },
 "nbformat": 4,
 "nbformat_minor": 2
}
